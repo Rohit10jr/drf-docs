{
 "cells": [
  {
   "cell_type": "markdown",
   "id": "e995f874",
   "metadata": {},
   "source": [
    "\n",
    "## Term\tMeaning\n",
    "1. Function = A reusable block of code that performs a specific task\n",
    "2. Class\t= A blueprint or template for creating objects\n",
    "3. Method   = A function defined inside  a class\n",
    "4. Instance\t= Another word for \"object\" — a concrete version of the class\n",
    "5. Object\t= A specific instance of a class, with its own data (attributes) and methods\n",
    "6. Property = A property is an attribute of a class that behaves like an attribute but is computed dynamically using a method, typically using the @property decorator."
   ]
  },
  {
   "cell_type": "markdown",
   "id": "bc84cfef",
   "metadata": {},
   "source": [
    "✅ Example:"
   ]
  },
  {
   "cell_type": "markdown",
   "id": "d667f77c",
   "metadata": {},
   "source": [
    "🔁 Function Example"
   ]
  },
  {
   "cell_type": "code",
   "execution_count": null,
   "id": "4acf38f8",
   "metadata": {},
   "outputs": [
    {
     "name": "stdout",
     "output_type": "stream",
     "text": [
      "Hello, Alice!\n"
     ]
    }
   ],
   "source": [
    "def greet(name): # 'name' is a parameter\n",
    "    return f\"Hello, {name}!\"\n",
    "\n",
    "# usage\n",
    "print(greet(\"Alice\")) # 'Alice' is an argument\n"
   ]
  },
  {
   "cell_type": "markdown",
   "id": "7d6e67b5",
   "metadata": {},
   "source": [
    "\n",
    "🔍 Class Example"
   ]
  },
  {
   "cell_type": "code",
   "execution_count": 16,
   "id": "2702862a",
   "metadata": {},
   "outputs": [
    {
     "name": "stdout",
     "output_type": "stream",
     "text": [
      "Hello, Alice!\n"
     ]
    }
   ],
   "source": [
    "class Greeter:\n",
    "    def __init__(self, name):  # Constructor method\n",
    "        self.name = name       # 'self' refers to the instance and 'name' is an attribute\n",
    "\n",
    "    def greet(self):           # Method\n",
    "        return f\"Hello, {self.name}!\"\n",
    "    \n",
    "    def greet2(self, country=\"world\"):       # Method taking extra argument\n",
    "        return f\"Hello, {self.name}! from {country.capitalize()}!\"\n",
    "\n",
    "# usage\n",
    "greeter = Greeter(\"Alice\") # greeter is an object (also called an instance) of that class.\n",
    "print(greeter.greet())\n"
   ]
  },
  {
   "cell_type": "markdown",
   "id": "6f9a8e3b",
   "metadata": {},
   "source": [
    "When we create an object, we pass arguments to set up the initial state of the object.\n",
    "These values are saved in self, so the object’s methods can use them later.\n",
    "\n"
   ]
  },
  {
   "cell_type": "code",
   "execution_count": 17,
   "id": "762ae6e3",
   "metadata": {},
   "outputs": [
    {
     "name": "stdout",
     "output_type": "stream",
     "text": [
      "Hello, Alice!\n",
      "Hello, Bob! from World!\n"
     ]
    }
   ],
   "source": [
    "g1 = Greeter(\"Alice\")\n",
    "g2 = Greeter(\"Bob\")\n",
    "\n",
    "print(g1.greet())  # Hello, Alice!\n",
    "print(g2.greet2())  # Hello, Bob!\n"
   ]
  },
  {
   "cell_type": "markdown",
   "id": "1ee78cab",
   "metadata": {},
   "source": [
    "What are *args and **kwargs?\n",
    "\n",
    "# Syntax\t|   Accepts\t                            |   Type\n",
    "1. *args\t=   Any number of positional arguments\t|   A tuple\n",
    "2. **kwargs\t=   Any number of keyword arguments\t    |   A dict"
   ]
  },
  {
   "cell_type": "markdown",
   "id": "3229f6c4",
   "metadata": {},
   "source": [
    "🧪 Example using both:"
   ]
  },
  {
   "cell_type": "code",
   "execution_count": 18,
   "id": "e7f52ad8",
   "metadata": {},
   "outputs": [
    {
     "name": "stdout",
     "output_type": "stream",
     "text": [
      "Positional arguments (args): (1, 2, 3)\n",
      "Keyword arguments (kwargs): {'name': 'Alice', 'country': 'India'}\n"
     ]
    }
   ],
   "source": [
    "def demo_function(*args, **kwargs):\n",
    "    print(\"Positional arguments (args):\", args)\n",
    "    print(\"Keyword arguments (kwargs):\", kwargs)\n",
    "\n",
    "demo_function(1, 2, 3, name=\"Alice\", country=\"India\")\n"
   ]
  },
  {
   "cell_type": "markdown",
   "id": "316b8f23",
   "metadata": {},
   "source": [
    "✅ Real-world Class Example:"
   ]
  },
  {
   "cell_type": "code",
   "execution_count": 19,
   "id": "588ac6fd",
   "metadata": {},
   "outputs": [
    {
     "name": "stdout",
     "output_type": "stream",
     "text": [
      "Subjects: ('Math', 'Science')\n",
      "Details: {'name': 'John', 'age': 16}\n"
     ]
    }
   ],
   "source": [
    "class Student:\n",
    "    def __init__(self, *subjects, **details):\n",
    "        self.subjects = subjects\n",
    "        self.details = details\n",
    "\n",
    "    def show(self):\n",
    "        print(f\"Subjects: {self.subjects}\")\n",
    "        print(f\"Details: {self.details}\")\n",
    "\n",
    "# Create a student\n",
    "s = Student(\"Math\", \"Science\", name=\"John\", age=16)\n",
    "s.show()\n"
   ]
  },
  {
   "cell_type": "markdown",
   "id": "df4f071c",
   "metadata": {},
   "source": [
    "✅ Example: Method vs Property"
   ]
  },
  {
   "cell_type": "code",
   "execution_count": 20,
   "id": "b4eec577",
   "metadata": {},
   "outputs": [
    {
     "name": "stdout",
     "output_type": "stream",
     "text": [
      "5\n",
      "7\n",
      "153.86\n"
     ]
    }
   ],
   "source": [
    "class Circle:\n",
    "    def __init__(self, radius):\n",
    "        self._radius = radius  # instance variable\n",
    "\n",
    "    @property\n",
    "    def radius(self):        # Property method (getter)\n",
    "        return self._radius\n",
    "\n",
    "    @radius.setter\n",
    "    def radius(self, value): # Property setter\n",
    "        if value < 0:\n",
    "            raise ValueError(\"Radius cannot be negative\")\n",
    "        self._radius = value\n",
    "\n",
    "    def area(self):           # Regular method\n",
    "        return 3.14 * (self._radius ** 2)\n",
    "\n",
    "\n",
    "# Create a Circle object\n",
    "circle = Circle(5)\n",
    "\n",
    "# Accessing property (no parentheses needed)\n",
    "print(circle.radius)  # Output: 5\n",
    "\n",
    "# Setting the property\n",
    "circle.radius = 7\n",
    "print(circle.radius)  # Output: 7\n",
    "\n",
    "# Calling the method (requires parentheses)\n",
    "print(circle.area())  # Output: 153.86\n"
   ]
  },
  {
   "cell_type": "markdown",
   "id": "eb6ceb49",
   "metadata": {},
   "source": [
    "## 💡 Summary 🧠\n",
    "# Function\t                Class\n",
    "* Quick and simple\t    |  More structured, holds data (state)\n",
    "* Best for one-off tasks  |  Great when you need to build on functionality\n",
    "* No self\t                |   Needs self to access instance variables"
   ]
  }
 ],
 "metadata": {
  "kernelspec": {
   "display_name": "venv",
   "language": "python",
   "name": "python3"
  },
  "language_info": {
   "codemirror_mode": {
    "name": "ipython",
    "version": 3
   },
   "file_extension": ".py",
   "mimetype": "text/x-python",
   "name": "python",
   "nbconvert_exporter": "python",
   "pygments_lexer": "ipython3",
   "version": "3.11.8"
  }
 },
 "nbformat": 4,
 "nbformat_minor": 5
}
